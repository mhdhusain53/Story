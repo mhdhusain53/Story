{
  "nbformat": 4,
  "nbformat_minor": 0,
  "metadata": {
    "colab": {
      "provenance": []
    },
    "kernelspec": {
      "name": "python3",
      "display_name": "Python 3"
    },
    "language_info": {
      "name": "python"
    }
  },
  "cells": [
    {
      "cell_type": "code",
      "execution_count": 19,
      "metadata": {
        "id": "bbLVPQ_Sd7Dy"
      },
      "outputs": [],
      "source": [
        "import numpy as np\n",
        "import tensorflow.keras.backend as K\n",
        "from tensorflow.keras.models import Sequential\n",
        "from tensorflow.keras.layers import Dense, Embedding, Lambda\n",
        "from tensorflow.python.keras.utils import np_utils\n",
        "from tensorflow.keras.preprocessing import sequence\n",
        "from tensorflow.keras.preprocessing import text\n",
        "import gensim"
      ]
    },
    {
      "cell_type": "code",
      "source": [
        "data=open('CBOW.txt','r')\n",
        "corona_data = [text for text in data if text.count(' ')>=2]\n",
        "corona_data"
      ],
      "metadata": {
        "colab": {
          "base_uri": "https://localhost:8080/"
        },
        "id": "CAA0IARhd7zh",
        "outputId": "8c05c754-7675-458e-8182-44f9d39d7e7c"
      },
      "execution_count": 20,
      "outputs": [
        {
          "output_type": "execute_result",
          "data": {
            "text/plain": [
              "['The speed of transmission is an important point of difference between the two viruses. Influenza has a shorter median incubation period (the time from infection to appearance of symptoms) and a shorter serial interval (the time between successive cases) than COVID-19 virus. The serial interval for COVID-19 virus is estimated to be 5-6 days, while for influenza virus, the serial interval is 3 days. This means that influenza can spread faster than COVID-19. \\n',\n",
              " 'Further, transmission in the first 3-5 days of illness, or potentially pre-symptomatic transmission –transmission of the virus before the appearance of symptoms – is a major driver of transmission for influenza. In contrast, while we are learning that there are people who can shed COVID-19 virus 24-48 hours prior to symptom onset, at present, this does not appear to be a major driver of transmission. \\n',\n",
              " 'The reproductive number – the number of secondary infections generated from one infected individual – is understood to be between 2 and 2.5 for COVID-19 virus, higher than for influenza. However, estimates for both COVID-19 and influenza viruses are very context and time-specific, making direct comparisons more difficult.  ']"
            ]
          },
          "metadata": {},
          "execution_count": 20
        }
      ]
    },
    {
      "cell_type": "code",
      "source": [
        "tokenizer = text.Tokenizer()\n",
        "tokenizer.fit_on_texts(corona_data)\n",
        "corona_data=tokenizer.texts_to_sequences(corona_data)"
      ],
      "metadata": {
        "id": "SVhoUsZ4e2En"
      },
      "execution_count": 21,
      "outputs": []
    },
    {
      "cell_type": "code",
      "source": [
        "window_size=2\n",
        "total_vaca=sum(len(x) for x in corona_data)\n",
        "word_count=len(tokenizer.word_index)+1"
      ],
      "metadata": {
        "id": "yFTPc9dofShZ"
      },
      "execution_count": 22,
      "outputs": []
    },
    {
      "cell_type": "code",
      "source": [
        "def cbow_model(data,window_size,total_vaca):\n",
        "  total_length=window_size*2\n",
        "  for text in data:\n",
        "    text_len=len(text)\n",
        "    for idx, word in enumerator(text):\n",
        "      context_word=[]\n",
        "      target=[]\n",
        "      begin=idx-window_size\n",
        "      end=idx+window_size\n",
        "      context_word.append([text[i] for i in range(begin, end) if 0 <= i < text_len and i != idx])\n",
        "      target.append(word)\n",
        "      contextual = sequence.pad_sequences(context_word, total_length=total_length)\n",
        "      final_target = np_utils.to_categorical(target, total_vocab)\n",
        "      yield(contextual, final_target)\n",
        "\n"
      ],
      "metadata": {
        "id": "-MPOe3blpuWZ"
      },
      "execution_count": 23,
      "outputs": []
    },
    {
      "cell_type": "code",
      "source": [
        "\n",
        "model = Sequential()\n",
        "model.add(Embedding(input_dim=total_vaca, output_dim=100, input_length=window_size*2))\n",
        "model.add(Lambda(lambda x: K.mean(x, axis=1), output_shape=(100,)))\n",
        "model.add(Dense(total_vaca, activation='softmax'))\n",
        "model.compile(loss='categorical_crossentropy', optimizer='adam')\n",
        "for i in range(10):\n",
        "    cost = 0\n",
        "    for x, y in cbow_model(data, window_size, total_vaca):\n",
        "        cost += model.train_on_batch(contextual, final_target)\n",
        "    print(i, cost)"
      ],
      "metadata": {
        "colab": {
          "base_uri": "https://localhost:8080/"
        },
        "id": "9vNATQ1atY98",
        "outputId": "b02c67e8-fd89-4455-e4e7-e1e537b21f39"
      },
      "execution_count": 24,
      "outputs": [
        {
          "output_type": "stream",
          "name": "stdout",
          "text": [
            "0 0\n",
            "1 0\n",
            "2 0\n",
            "3 0\n",
            "4 0\n",
            "5 0\n",
            "6 0\n",
            "7 0\n",
            "8 0\n",
            "9 0\n"
          ]
        }
      ]
    },
    {
      "cell_type": "code",
      "source": [
        "dimensions=100\n",
        "vect_file = open('/content/vectors.txt' ,'w')\n",
        "vect_file.write('{} {}\\n'.format(total_vaca,dimensions))"
      ],
      "metadata": {
        "colab": {
          "base_uri": "https://localhost:8080/"
        },
        "id": "0W4eyXGmBsI8",
        "outputId": "0d765dda-40b3-42a8-8526-ec9215983c1e"
      },
      "execution_count": 25,
      "outputs": [
        {
          "output_type": "execute_result",
          "data": {
            "text/plain": [
              "8"
            ]
          },
          "metadata": {},
          "execution_count": 25
        }
      ]
    },
    {
      "cell_type": "code",
      "source": [
        "weights = model.get_weights()[0]\n",
        "for text, i in tokenizer.word_index.items():\n",
        "    final_vec = ' '.join(map(str, list(weights[i, :])))\n",
        "    vect_file.write('{} {}\\n'.format(text, final_vec))\n",
        "vect_file.close()"
      ],
      "metadata": {
        "id": "xc2FEZAmCpd9"
      },
      "execution_count": 26,
      "outputs": []
    },
    {
      "cell_type": "code",
      "source": [
        "cbow_output = gensim.models.KeyedVectors.load_word2vec_format('/content/vectors.txt', binary = False, limit=100)\n"
      ],
      "metadata": {
        "id": "tNNW2J69Ct-G"
      },
      "execution_count": 27,
      "outputs": []
    },
    {
      "cell_type": "code",
      "source": [
        "cbow_output.most_similar(positive=['virus'])\n"
      ],
      "metadata": {
        "colab": {
          "base_uri": "https://localhost:8080/"
        },
        "id": "T38NBOLKC0wW",
        "outputId": "41be92a6-f21e-4721-f4e7-c3e6f2c1f538"
      },
      "execution_count": 28,
      "outputs": [
        {
          "output_type": "execute_result",
          "data": {
            "text/plain": [
              "[('6', 0.2983115017414093),\n",
              " ('infected', 0.2218937873840332),\n",
              " ('while', 0.19295375049114227),\n",
              " ('the', 0.14164185523986816),\n",
              " ('is', 0.14030338823795319),\n",
              " ('further', 0.14011487364768982),\n",
              " ('important', 0.13778285682201385),\n",
              " ('understood', 0.1353565752506256),\n",
              " ('context', 0.11918006092309952),\n",
              " ('successive', 0.11898145079612732)]"
            ]
          },
          "metadata": {},
          "execution_count": 28
        }
      ]
    },
    {
      "cell_type": "code",
      "source": [],
      "metadata": {
        "id": "PjSK7ZH5C2zn"
      },
      "execution_count": null,
      "outputs": []
    }
  ]
}